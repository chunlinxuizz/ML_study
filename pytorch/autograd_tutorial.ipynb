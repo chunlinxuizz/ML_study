{
  "cells": [
    {
      "cell_type": "code",
      "execution_count": null,
      "metadata": {
        "id": "yqz6T4sU2G8s"
      },
      "outputs": [],
      "source": [
        "# For tips on running notebooks in Google Colab, see\n",
        "# https://pytorch.org/tutorials/beginner/colab\n",
        "%matplotlib inline"
      ]
    },
    {
      "cell_type": "markdown",
      "metadata": {
        "id": "mfz227od2G8t"
      },
      "source": [
        "A Gentle Introduction to `torch.autograd`\n",
        "=========================================\n",
        "\n",
        "`torch.autograd` is PyTorch's automatic differentiation engine that\n",
        "powers neural network training. In this section, you will get a\n",
        "conceptual understanding of how autograd helps a neural network train.\n",
        "\n",
        "Background\n",
        "----------\n",
        "\n",
        "Neural networks (NNs) are a collection of nested functions that are\n",
        "executed on some input data. These functions are defined by *parameters*\n",
        "(consisting of weights and biases), which in PyTorch are stored in\n",
        "tensors.\n",
        "\n",
        "Training a NN happens in two steps:\n",
        "\n",
        "**Forward Propagation**: In forward prop, the NN makes its best guess\n",
        "about the correct output. It runs the input data through each of its\n",
        "functions to make this guess.\n",
        "\n",
        "**Backward Propagation**: In backprop, the NN adjusts its parameters\n",
        "proportionate to the error in its guess. It does this by traversing\n",
        "backwards from the output, collecting the derivatives of the error with\n",
        "respect to the parameters of the functions (*gradients*), and optimizing\n",
        "the parameters using gradient descent. For a more detailed walkthrough\n",
        "of backprop, check out this [video from\n",
        "3Blue1Brown](https://www.youtube.com/watch?v=tIeHLnjs5U8).\n",
        "\n",
        "Usage in PyTorch\n",
        "----------------\n",
        "\n",
        "Let\\'s take a look at a single training step. For this example, we load\n",
        "a pretrained resnet18 model from `torchvision`. We create a random data\n",
        "tensor to represent a single image with 3 channels, and height & width\n",
        "of 64, and its corresponding `label` initialized to some random values.\n",
        "Label in pretrained models has shape (1,1000).\n",
        "\n",
        "<div style=\"background-color: #54c7ec; color: #fff; font-weight: 700; padding-left: 10px; padding-top: 5px; padding-bottom: 5px\"><strong>NOTE:</strong></div>\n",
        "\n",
        "<div style=\"background-color: #f3f4f7; padding-left: 10px; padding-top: 10px; padding-bottom: 10px; padding-right: 10px\">\n",
        "\n",
        "<p>This tutorial works only on the CPU and will not work on GPU devices (even if tensors are moved to CUDA).</p>\n",
        "\n",
        "</div>\n",
        "\n"
      ]
    },
    {
      "cell_type": "code",
      "execution_count": 1,
      "metadata": {
        "id": "GfHFbW0w2G8u",
        "outputId": "d07ae931-c68a-4ef3-a105-d3be500801c8",
        "colab": {
          "base_uri": "https://localhost:8080/"
        }
      },
      "outputs": [
        {
          "output_type": "stream",
          "name": "stderr",
          "text": [
            "Downloading: \"https://download.pytorch.org/models/resnet18-f37072fd.pth\" to /root/.cache/torch/hub/checkpoints/resnet18-f37072fd.pth\n",
            "100%|██████████| 44.7M/44.7M [00:00<00:00, 124MB/s]\n"
          ]
        }
      ],
      "source": [
        "import torch\n",
        "from torchvision.models import resnet18, ResNet18_Weights\n",
        "model = resnet18(weights=ResNet18_Weights.DEFAULT)\n",
        "data = torch.rand(1, 3, 64, 64)\n",
        "labels = torch.rand(1, 1000)"
      ]
    },
    {
      "cell_type": "markdown",
      "metadata": {
        "id": "5PPMxEkz2G8v"
      },
      "source": [
        "Next, we run the input data through the model through each of its layers\n",
        "to make a prediction. This is the **forward pass**.\n"
      ]
    },
    {
      "cell_type": "code",
      "execution_count": 2,
      "metadata": {
        "id": "5x1UV5ZY2G8v"
      },
      "outputs": [],
      "source": [
        "prediction = model(data) # forward pass"
      ]
    },
    {
      "cell_type": "code",
      "source": [
        "prediction"
      ],
      "metadata": {
        "id": "90I9E8l22ZRY",
        "outputId": "2680c8d7-f648-482d-9d43-43183a14f8ba",
        "colab": {
          "base_uri": "https://localhost:8080/"
        }
      },
      "execution_count": 3,
      "outputs": [
        {
          "output_type": "execute_result",
          "data": {
            "text/plain": [
              "tensor([[-8.2633e-01, -4.8605e-01, -5.4416e-01, -1.7138e+00, -6.2074e-01,\n",
              "         -3.5445e-01, -3.9250e-01,  3.8120e-01,  1.2150e-01, -5.6805e-01,\n",
              "         -6.4676e-01, -4.6748e-01,  8.3104e-02, -8.5619e-01, -5.9594e-01,\n",
              "         -4.6265e-01, -6.6464e-01, -9.4029e-02, -4.6771e-01, -3.3995e-01,\n",
              "         -1.2995e+00, -5.6898e-01, -1.3542e+00, -2.5983e-02, -6.0232e-01,\n",
              "         -1.0602e+00, -6.5920e-01, -1.0172e+00, -7.2971e-01, -8.4417e-01,\n",
              "         -7.4790e-01, -9.0209e-01, -3.9351e-01, -7.7997e-01, -5.5471e-01,\n",
              "         -1.8637e-01,  7.4404e-01, -4.6289e-01, -4.6459e-01, -1.3380e-01,\n",
              "         -4.4975e-01, -4.3728e-01, -8.7986e-01, -4.2921e-01, -3.4096e-01,\n",
              "         -4.2177e-01, -6.1974e-01, -4.9530e-01, -1.2032e+00, -1.0076e+00,\n",
              "         -3.2854e-01,  1.6558e-01, -2.3947e-01, -5.6064e-01, -2.4321e-01,\n",
              "         -1.0540e+00, -2.9937e-01, -1.3653e+00, -9.1556e-03, -4.8230e-01,\n",
              "          8.3889e-01,  2.1497e-01, -1.3234e-02,  3.3030e-01, -9.3182e-01,\n",
              "         -1.3894e-01, -3.9713e-01, -4.0615e-01, -8.1161e-01, -7.2488e-01,\n",
              "         -1.3782e+00,  2.0521e-01, -1.3854e+00, -2.3648e-01, -1.0697e+00,\n",
              "         -1.5125e+00, -2.1889e-01, -5.4124e-01,  9.7702e-02,  4.6653e-01,\n",
              "         -8.6165e-01, -1.5118e+00,  1.4134e-01, -9.3940e-01, -3.7339e-01,\n",
              "          1.7638e-01,  2.0188e-01,  2.0274e-01, -1.8478e-02, -6.8163e-01,\n",
              "         -9.8802e-01, -1.0276e+00, -1.7057e+00, -3.4320e-01,  5.8237e-01,\n",
              "         -1.8847e+00, -4.4077e-01,  7.9091e-02, -1.4970e+00, -2.8260e-01,\n",
              "         -1.1875e+00, -8.4060e-01, -8.3782e-01, -2.6838e-01, -2.1186e-01,\n",
              "         -9.4426e-01, -5.9959e-01, -1.3937e+00, -8.5187e-01, -1.3770e+00,\n",
              "         -6.9937e-01, -5.0784e-01,  1.0307e+00,  6.2222e-01,  5.7359e-01,\n",
              "         -6.9820e-01, -4.6539e-01, -5.3535e-01,  6.2643e-01, -3.8284e-01,\n",
              "         -6.5175e-01, -1.5469e-01,  3.6169e-01,  3.7697e-01,  1.1668e+00,\n",
              "          1.0144e-02,  5.8089e-01, -1.5774e+00, -1.2395e+00, -1.1057e+00,\n",
              "         -1.2602e+00, -1.2674e+00, -9.0227e-01, -9.1330e-01, -5.5005e-01,\n",
              "         -1.1180e+00, -6.9240e-01, -1.0641e+00, -1.2047e+00, -1.3396e+00,\n",
              "         -1.3782e+00, -1.5031e+00, -1.8857e+00, -1.8081e+00, -4.6784e-01,\n",
              "         -4.6228e-01, -9.8195e-01, -1.8594e+00, -1.2534e+00, -1.3596e+00,\n",
              "          1.9405e-01,  1.4325e+00, -1.3025e+00, -7.0316e-01, -3.2291e-01,\n",
              "         -8.0976e-02, -4.9699e-01, -3.1038e-01,  1.4537e-01,  1.8549e-01,\n",
              "          4.1753e-01,  4.0869e-01, -5.6010e-02,  5.1786e-01,  2.3494e-01,\n",
              "         -1.5101e-01, -1.7267e-01, -4.1999e-01,  4.6477e-01, -7.9240e-02,\n",
              "          1.1519e-01,  9.2879e-01,  5.7405e-01,  1.5568e-01,  5.7922e-04,\n",
              "         -7.0778e-01,  2.5182e-01,  9.1269e-02,  5.0749e-01,  4.3677e-01,\n",
              "          3.8280e-01, -5.5435e-02,  6.7433e-01, -1.9104e-01,  5.5543e-01,\n",
              "          7.0057e-01,  5.7916e-01,  1.2254e-01, -4.9459e-02,  4.4639e-01,\n",
              "         -9.2863e-01,  1.4754e-01,  3.6568e-01,  5.6941e-01, -7.4410e-01,\n",
              "          4.7748e-01,  9.7804e-02,  2.6602e-01,  3.3881e-01,  3.8290e-01,\n",
              "          2.7291e-01,  6.3022e-02,  3.8574e-01,  4.7145e-02,  1.5259e-01,\n",
              "          3.9564e-01, -5.3168e-02,  5.8662e-01,  1.3537e+00,  5.5403e-01,\n",
              "         -1.6087e-02,  3.7972e-01,  4.3909e-01, -1.4897e-01, -2.6204e-02,\n",
              "          2.3753e-01, -2.1911e-01,  1.1946e-01, -3.3348e-01,  4.8822e-01,\n",
              "         -1.6818e-01, -1.3958e-01,  1.9447e-02,  6.9111e-01,  2.4341e-01,\n",
              "          3.3264e-01,  3.0743e-02,  6.2217e-01, -6.4775e-01, -3.9941e-01,\n",
              "         -1.3331e-02,  5.3414e-01,  3.9819e-01, -1.6090e-01,  7.6585e-01,\n",
              "          7.8750e-01,  3.6684e-01,  1.3981e-01,  8.0003e-01, -1.8253e-01,\n",
              "          6.2340e-01, -1.2428e-01,  1.4996e-01,  1.5923e-01, -1.2370e-01,\n",
              "          6.3400e-02,  7.2331e-01,  1.7432e-02,  4.8523e-01,  5.6242e-02,\n",
              "          2.0975e-01,  7.1330e-01, -8.3562e-01,  7.0963e-01,  4.7717e-01,\n",
              "         -3.7076e-01,  4.0916e-01,  2.0319e-01, -5.1764e-01,  1.5477e-01,\n",
              "         -3.9485e-01, -6.6850e-01, -4.9387e-01,  2.6889e-01,  8.8349e-01,\n",
              "          4.9715e-01,  8.1737e-02,  4.4693e-01, -6.1294e-02, -3.1268e-01,\n",
              "         -1.1008e+00, -1.1541e+00, -4.2771e-01,  4.6062e-01, -1.0212e+00,\n",
              "         -1.0174e+00, -1.1401e+00, -6.2831e-01, -1.1684e+00, -9.1413e-01,\n",
              "         -3.8298e-01,  7.1223e-01,  8.6096e-01, -2.3858e-01, -1.3359e-01,\n",
              "          8.2506e-01, -2.2652e-01, -3.1922e-01, -7.1199e-01, -1.6546e+00,\n",
              "         -7.4348e-01, -1.5039e+00, -2.9642e-01, -7.8768e-01, -1.0018e+00,\n",
              "         -5.8642e-01, -1.0694e+00, -1.3485e+00, -6.5232e-01, -2.2604e-01,\n",
              "         -1.5987e+00, -5.0969e-01, -3.2623e-01,  9.8784e-02, -7.9695e-01,\n",
              "         -7.9261e-01,  3.0961e-01, -5.2319e-01, -1.0894e+00, -2.9606e-01,\n",
              "          3.9327e-01, -2.1065e-01, -2.4973e-01,  2.9723e-01,  8.0099e-01,\n",
              "         -4.1349e-01, -9.9359e-01, -7.9575e-01, -8.0419e-01, -5.8118e-01,\n",
              "         -1.2119e+00, -1.0424e+00, -1.2853e+00, -1.3926e+00, -1.3993e+00,\n",
              "         -1.6441e+00, -1.0287e+00,  5.7795e-02, -3.0598e-02, -3.6000e-01,\n",
              "         -1.0760e-01, -2.0797e-01, -1.0977e-01,  1.6466e-01, -4.9976e-01,\n",
              "         -1.0439e+00, -1.7157e+00,  4.2073e-01,  5.7903e-01, -1.2055e+00,\n",
              "         -3.5347e-01,  4.5136e-01, -4.6464e-01, -1.4543e+00, -7.6369e-01,\n",
              "          5.4306e-01, -6.5138e-01, -1.5283e+00, -2.4465e-01, -1.3741e+00,\n",
              "         -1.2631e+00, -2.5930e+00, -1.1772e+00, -7.9814e-01, -9.7299e-01,\n",
              "          4.4929e-01,  8.3597e-01, -1.7993e-01,  2.5413e-01,  1.2764e-01,\n",
              "         -1.0225e-01,  3.6070e-01,  3.0980e-02,  9.6631e-02, -3.0606e-01,\n",
              "         -5.8848e-01, -8.9678e-01, -3.0494e-01, -7.5109e-01, -4.6351e-01,\n",
              "         -6.0329e-01, -1.8348e-01, -4.9004e-01,  5.2427e-02, -3.4101e-01,\n",
              "         -1.1649e+00, -1.0905e+00,  2.2357e-01, -4.5287e-01, -4.4753e-01,\n",
              "          2.3276e-01, -4.7376e-01, -4.3724e-01, -5.1455e-01, -7.4623e-01,\n",
              "         -2.6584e-01, -8.9263e-01, -1.0201e+00, -1.2167e+00, -4.8314e-01,\n",
              "          6.4249e-01,  9.0431e-02, -1.1766e+00, -1.6816e+00, -3.2300e-01,\n",
              "          5.4915e-01, -1.0997e+00, -7.0748e-01,  6.0715e-01, -4.0224e-02,\n",
              "         -9.0948e-01,  6.5744e-01,  3.2739e-01, -2.1975e+00, -2.0302e+00,\n",
              "         -8.7915e-01, -1.6424e-01, -1.4211e-01, -2.7941e-01,  8.4640e-01,\n",
              "         -5.2172e-02,  4.1601e-01,  1.8997e+00,  6.9370e-01,  5.1353e-01,\n",
              "          8.8301e-01, -2.2460e-01,  2.6279e-01,  6.5224e-01,  1.0988e+00,\n",
              "          6.7105e-01,  1.2575e+00, -3.4907e-01,  4.5600e-01,  1.2598e-01,\n",
              "         -6.8281e-01, -8.3518e-02,  1.4021e+00,  1.4273e+00,  7.1240e-01,\n",
              "         -5.0858e-01, -3.4687e-01,  2.9914e-01,  9.0768e-01,  4.5923e-01,\n",
              "          6.9193e-01, -2.6925e-01, -2.9986e-01,  4.6447e-01,  3.8176e-01,\n",
              "          9.2959e-01,  6.4794e-01, -3.0497e-02, -4.2082e-01, -3.3123e-01,\n",
              "          1.8139e-01,  7.5782e-01,  1.4264e+00,  1.0799e+00, -2.5442e-01,\n",
              "         -4.5449e-01,  1.7575e-01,  5.4165e-01, -1.4207e-01, -1.3410e-01,\n",
              "          8.4636e-01,  1.6618e+00,  9.2078e-01, -4.4228e-02,  5.1687e-01,\n",
              "         -9.8574e-01,  6.8292e-01,  1.6113e+00,  2.4433e+00,  1.0782e+00,\n",
              "         -3.3998e-01, -1.6668e+00, -4.4226e-01,  8.8244e-02,  1.4239e+00,\n",
              "          7.4541e-01,  4.6441e-01,  3.6904e-01,  1.0091e+00, -2.5524e-01,\n",
              "         -2.9948e-02,  1.3047e-01,  6.9235e-01,  6.9600e-01,  4.2749e-01,\n",
              "         -1.6700e-01,  2.2558e-01,  3.2937e-01, -7.8039e-01, -1.2374e+00,\n",
              "         -2.5763e-01, -1.2248e-01,  1.0345e+00,  1.7428e+00,  1.2447e+00,\n",
              "          5.5704e-01,  8.5212e-01,  5.7815e-01, -1.2651e+00,  1.2665e+00,\n",
              "         -1.1640e+00,  9.1229e-02, -6.6337e-02, -4.9041e-01,  1.1239e+00,\n",
              "         -1.4739e+00,  5.4833e-01,  9.8890e-01,  8.7537e-01,  9.2685e-01,\n",
              "          1.0874e+00,  1.0634e+00,  6.7303e-01,  1.6996e-01,  2.7262e-01,\n",
              "         -1.2169e+00, -9.2433e-01,  1.0996e+00,  3.8929e-01,  1.2654e+00,\n",
              "          1.5513e+00,  2.2580e-01,  4.4005e-01,  1.2348e+00,  4.8909e-01,\n",
              "         -8.8381e-01,  4.5767e-02,  1.0028e+00,  1.5610e+00,  4.5059e-01,\n",
              "         -5.3174e-01, -2.4540e-02, -6.2494e-01,  2.6113e-01,  1.5686e-01,\n",
              "          1.0247e+00,  4.3634e-01, -3.8271e-02, -9.8078e-01,  3.7177e-01,\n",
              "         -4.4124e-01, -3.4989e-01, -8.1557e-01,  1.1951e-01,  1.1590e+00,\n",
              "         -1.0859e+00,  1.6622e+00,  1.2120e+00,  6.6344e-01,  2.8333e-01,\n",
              "          6.1576e-01,  7.9383e-01, -2.0228e+00, -1.4204e+00,  1.9098e-01,\n",
              "         -3.4196e-01, -1.8288e-01,  8.3110e-01, -2.0927e-01, -1.7660e+00,\n",
              "         -3.8163e-01,  2.3963e-01,  5.6728e-01,  1.4033e+00,  6.3742e-01,\n",
              "          2.3980e-01, -4.0774e-02,  9.1137e-01,  2.1566e-01, -1.4789e+00,\n",
              "         -5.9871e-01,  3.1923e-01,  1.0519e+00,  3.1288e-01, -3.8390e-01,\n",
              "          7.4869e-01, -2.0206e-01,  9.4239e-01, -6.7053e-01,  1.8543e-01,\n",
              "         -8.5813e-03, -7.7949e-01,  7.6674e-01,  2.6863e-01,  3.6220e-01,\n",
              "          3.7595e-01, -1.1624e-01,  7.0315e-01,  3.5945e-01,  6.4000e-01,\n",
              "          6.2530e-01, -4.5758e-01,  1.7445e+00,  1.0500e+00,  8.9612e-01,\n",
              "         -6.4058e-01,  7.6128e-01, -3.8852e-01,  7.5508e-01,  2.1915e-01,\n",
              "         -4.3759e-01,  9.3644e-01,  1.9023e-01, -9.1380e-01,  7.7739e-01,\n",
              "          2.2345e+00, -3.7367e-01, -1.9743e-01, -4.9998e-01,  4.9090e-01,\n",
              "          4.0756e-01,  1.3299e+00, -7.7596e-01,  6.1209e-01, -2.9905e-01,\n",
              "          1.0741e+00,  8.9990e-01, -5.3571e-01,  7.2268e-01, -1.3114e-01,\n",
              "          3.5497e-01,  1.1611e+00,  4.9145e-01,  1.9433e+00,  7.5665e-01,\n",
              "          8.4838e-01,  9.5385e-01,  3.4580e-01,  6.0135e-01,  3.9260e-01,\n",
              "         -1.1483e+00,  1.2855e+00, -4.0505e-01, -1.2348e+00,  4.2917e-01,\n",
              "         -2.0760e-01,  8.2180e-01,  4.5866e-01,  1.0133e+00, -2.2131e-01,\n",
              "          7.4643e-02,  1.3787e+00,  8.2071e-01,  8.5021e-01,  2.4640e-01,\n",
              "         -1.8162e+00,  1.0322e+00, -1.0391e-01,  1.4105e+00,  9.2289e-01,\n",
              "         -7.7538e-01,  4.8906e-01,  4.0959e-01, -9.2373e-01, -1.7309e+00,\n",
              "          1.0192e+00,  1.0952e-01,  5.9789e-01,  6.7456e-01, -1.8944e-01,\n",
              "          7.3317e-01, -1.4621e-01, -1.2364e-01,  3.9307e-01,  5.1233e-01,\n",
              "          1.6354e-01, -9.7971e-01, -3.3315e-02, -5.5871e-01,  9.3584e-01,\n",
              "          2.9887e-02,  1.1561e+00,  2.5314e-01, -8.8893e-01, -7.4780e-01,\n",
              "          2.6217e-01, -2.6400e-01, -3.9105e-01,  5.9363e-01,  1.4027e+00,\n",
              "         -6.1648e-01,  1.5531e+00,  1.0305e+00,  1.1781e+00,  3.2773e-01,\n",
              "          3.2243e-01,  4.2238e-01, -4.0105e-01,  5.4979e-01,  6.5756e-01,\n",
              "         -1.4049e+00, -2.0959e-01, -9.7457e-01, -4.0923e-01, -9.8559e-01,\n",
              "         -7.4648e-01,  2.8314e-01,  1.0351e+00,  1.1206e+00, -1.0650e+00,\n",
              "          1.0241e+00,  1.9293e+00, -4.1328e-02, -1.0563e-01,  7.0205e-01,\n",
              "          1.8674e+00, -2.7635e-01, -3.0591e-01,  5.2290e-01,  9.3928e-01,\n",
              "         -3.8118e-01, -3.6206e-01,  3.0181e-01,  7.3311e-01,  3.9203e-01,\n",
              "          8.0291e-01,  9.9128e-01,  8.5018e-02, -7.5422e-01,  6.8998e-01,\n",
              "         -7.0384e-01,  6.3675e-01, -5.7447e-01, -3.4774e-01,  4.2280e-01,\n",
              "          9.0478e-02,  4.7985e-01,  1.4051e+00,  2.2855e-01, -6.8293e-01,\n",
              "          1.1985e+00, -1.0555e+00, -2.2995e-01,  1.2528e+00, -6.2313e-01,\n",
              "         -9.2246e-02,  2.1477e+00, -5.4025e-01,  2.2133e+00, -1.5815e+00,\n",
              "          2.0151e-01, -1.8762e-04,  8.6517e-01,  8.6292e-01, -3.6927e-01,\n",
              "          1.1639e+00,  3.3243e-01,  3.7964e-01,  1.1511e-01,  4.8622e-01,\n",
              "         -2.5753e-01,  3.2144e-01,  9.4998e-01,  8.3729e-01,  1.7578e+00,\n",
              "          4.6397e-01, -1.7521e-02,  5.2889e-01,  5.2909e-01,  8.6094e-01,\n",
              "         -6.9509e-01,  1.0864e+00, -1.5554e-02,  1.4377e+00, -1.5568e-01,\n",
              "         -3.5807e-02,  7.9399e-01,  4.4068e-01,  1.0470e+00,  1.3157e+00,\n",
              "          8.1903e-01,  3.4066e-01,  6.9246e-01, -7.9272e-03,  1.3314e+00,\n",
              "          4.6241e-01,  3.6819e-01,  2.0429e+00,  6.0566e-01,  7.6547e-01,\n",
              "          3.7308e-01,  5.0946e-01,  5.7094e-01,  1.5476e+00, -7.2100e-01,\n",
              "         -1.0471e+00, -9.6564e-01,  7.8740e-01,  1.1094e+00,  1.7308e+00,\n",
              "          3.8488e-01,  6.3441e-01,  1.3831e+00, -3.0327e-02, -4.5792e-02,\n",
              "          7.2166e-01,  1.4754e+00,  1.7225e+00,  9.4264e-01,  2.4039e-01,\n",
              "          1.5490e-01,  9.7199e-01,  6.6197e-01, -7.2188e-01,  5.1210e-01,\n",
              "         -8.2417e-01,  9.3140e-02, -1.0638e+00, -1.0380e+00,  1.0116e+00,\n",
              "          1.3337e+00,  1.9362e-01,  1.3929e-01,  1.2238e+00,  3.1512e-02,\n",
              "         -7.0991e-01,  7.4190e-01, -1.8882e-01,  1.7448e+00, -9.9524e-01,\n",
              "          9.5803e-02,  4.7176e-01, -1.1745e+00,  1.6485e+00,  5.6957e-01,\n",
              "         -1.4525e+00, -8.4494e-01,  1.8419e-01,  4.8690e-01,  9.0143e-01,\n",
              "         -1.1604e+00,  2.6626e-01,  6.8057e-01,  1.5661e+00, -5.2761e-01,\n",
              "          9.8550e-01,  2.4244e-01, -7.3647e-01, -1.1100e+00,  1.0980e-01,\n",
              "          6.8297e-01,  1.4644e+00,  1.4473e+00,  8.4264e-01, -5.1243e-01,\n",
              "          1.6538e+00,  4.9557e-01,  3.6582e-01,  1.0414e+00,  5.6407e-01,\n",
              "          1.6962e+00,  7.2080e-01, -4.1166e-01,  2.5641e-01,  7.7701e-01,\n",
              "          1.0770e+00,  1.1466e+00,  1.9725e+00, -3.9763e-01, -4.3418e-01,\n",
              "          9.6939e-01, -8.0403e-01, -6.3259e-02, -2.2658e-01,  7.6986e-01,\n",
              "          3.0851e-01,  1.3325e+00,  1.0677e+00,  1.9900e-02, -2.5292e-01,\n",
              "          4.1872e-01, -2.0204e-02, -7.4010e-02,  1.7687e+00, -5.3775e-01,\n",
              "          9.8663e-01, -1.2848e+00,  1.1543e+00, -7.0165e-01, -2.3727e+00,\n",
              "          3.5846e-01,  1.1611e+00, -2.7240e-01, -4.4893e-01,  1.7221e+00,\n",
              "          9.2240e-01, -2.6786e-01,  1.0704e+00,  1.2787e+00, -4.4077e-02,\n",
              "          4.1984e-01, -4.8637e-01, -1.3904e-01, -9.6279e-01,  6.3245e-01,\n",
              "         -2.4561e-01, -1.4817e-01,  6.6110e-01,  2.7976e-01, -6.5936e-01,\n",
              "         -8.2596e-01,  8.1857e-01,  3.6420e-01,  1.9529e+00,  1.9220e+00,\n",
              "         -9.0973e-01, -7.0877e-01,  1.6933e+00,  8.8658e-01,  8.7660e-01,\n",
              "          2.9283e-02, -5.7703e-01,  1.4230e+00, -8.7098e-01,  9.8906e-01,\n",
              "          1.3980e+00,  1.1624e+00,  7.4277e-01, -7.8747e-01, -1.9815e+00,\n",
              "         -3.4065e-01,  1.5032e-01,  5.2489e-01,  4.0711e-01,  2.4773e-01,\n",
              "          1.4839e-01,  1.2747e+00, -3.8032e-01,  3.7841e-01, -5.2505e-01,\n",
              "         -9.5283e-01, -8.8418e-01, -6.8574e-01, -1.4429e-01,  1.5242e+00,\n",
              "         -4.7011e-01, -1.6631e-01,  3.7513e-01, -1.7294e+00,  9.0322e-02,\n",
              "         -5.0913e-01,  2.9679e-02,  3.4861e-01, -3.8340e-01,  1.7855e-02,\n",
              "         -3.9651e-01, -7.3448e-01, -5.7875e-01,  2.2195e-01, -6.8560e-01,\n",
              "         -5.1208e-01, -1.2208e+00,  4.0937e-01,  8.7784e-01, -2.7979e-01,\n",
              "          2.0560e-01, -4.9346e-01, -7.2620e-01,  2.2899e-01,  9.0599e-01,\n",
              "         -3.9086e-01, -8.1569e-01, -5.1238e-01,  1.6444e-01, -9.9822e-01,\n",
              "          2.0632e-01,  2.2139e-01, -4.0639e-01, -7.6922e-01, -1.3241e+00,\n",
              "         -3.9361e-01,  7.8357e-01, -4.0666e-01,  8.7424e-01,  6.4084e-03,\n",
              "         -1.4189e-01,  1.1659e+00, -4.2549e-01, -2.2292e-01, -2.0883e+00,\n",
              "          9.9505e-01, -1.7899e+00,  4.3886e-01,  4.3788e-02, -7.5996e-01,\n",
              "         -8.5948e-01,  3.3412e-01,  3.9521e-01, -3.3339e-01, -5.9908e-01,\n",
              "         -1.2560e+00, -2.3398e+00,  1.3258e+00, -1.6808e-01, -7.2591e-01,\n",
              "         -3.5267e-01, -1.0925e+00, -8.0144e-01, -1.7794e+00, -8.5423e-01,\n",
              "         -6.7609e-01,  2.3131e-01, -5.8732e-01,  1.1660e+00,  8.6051e-01]],\n",
              "       grad_fn=<AddmmBackward0>)"
            ]
          },
          "metadata": {},
          "execution_count": 3
        }
      ]
    },
    {
      "cell_type": "markdown",
      "metadata": {
        "id": "dmFbWYGc2G8v"
      },
      "source": [
        "We use the model\\'s prediction and the corresponding label to calculate\n",
        "the error (`loss`). The next step is to backpropagate this error through\n",
        "the network. Backward propagation is kicked off when we call\n",
        "`.backward()` on the error tensor. Autograd then calculates and stores\n",
        "the gradients for each model parameter in the parameter\\'s `.grad`\n",
        "attribute.\n"
      ]
    },
    {
      "cell_type": "code",
      "execution_count": 4,
      "metadata": {
        "id": "_1spGAOs2G8v"
      },
      "outputs": [],
      "source": [
        "loss = (prediction - labels).sum()\n",
        "loss.backward() # backward pass"
      ]
    },
    {
      "cell_type": "markdown",
      "metadata": {
        "id": "7o6mfXlo2G8w"
      },
      "source": [
        "Next, we load an optimizer, in this case SGD with a learning rate of\n",
        "0.01 and\n",
        "[momentum](https://towardsdatascience.com/stochastic-gradient-descent-with-momentum-a84097641a5d)\n",
        "of 0.9. We register all the parameters of the model in the optimizer.\n"
      ]
    },
    {
      "cell_type": "code",
      "execution_count": 5,
      "metadata": {
        "id": "owes1Osk2G8w"
      },
      "outputs": [],
      "source": [
        "optim = torch.optim.SGD(model.parameters(), lr=1e-2, momentum=0.9)"
      ]
    },
    {
      "cell_type": "markdown",
      "metadata": {
        "id": "aVXyfsBQ2G8w"
      },
      "source": [
        "Finally, we call `.step()` to initiate gradient descent. The optimizer\n",
        "adjusts each parameter by its gradient stored in `.grad`.\n"
      ]
    },
    {
      "cell_type": "code",
      "execution_count": 6,
      "metadata": {
        "id": "NK8J9tgS2G8w"
      },
      "outputs": [],
      "source": [
        "optim.step() #gradient descent"
      ]
    },
    {
      "cell_type": "markdown",
      "metadata": {
        "id": "0XHslPlQ2G8x"
      },
      "source": [
        "At this point, you have everything you need to train your neural\n",
        "network. The below sections detail the workings of autograd - feel free\n",
        "to skip them.\n"
      ]
    },
    {
      "cell_type": "markdown",
      "metadata": {
        "id": "GIxkk0Zh2G8x"
      },
      "source": [
        "------------------------------------------------------------------------\n"
      ]
    },
    {
      "cell_type": "markdown",
      "metadata": {
        "id": "_d4LInd52G8x"
      },
      "source": [
        "Differentiation in Autograd\n",
        "===========================\n",
        "\n",
        "Let\\'s take a look at how `autograd` collects gradients. We create two\n",
        "tensors `a` and `b` with `requires_grad=True`. This signals to\n",
        "`autograd` that every operation on them should be tracked.\n"
      ]
    },
    {
      "cell_type": "code",
      "execution_count": null,
      "metadata": {
        "id": "men2xqBM2G8x"
      },
      "outputs": [],
      "source": [
        "import torch\n",
        "\n",
        "a = torch.tensor([2., 3.], requires_grad=True)\n",
        "b = torch.tensor([6., 4.], requires_grad=True)"
      ]
    },
    {
      "cell_type": "markdown",
      "metadata": {
        "id": "8kHP87Ua2G8x"
      },
      "source": [
        "We create another tensor `Q` from `a` and `b`.\n",
        "\n",
        "$$Q = 3a^3 - b^2$$\n"
      ]
    },
    {
      "cell_type": "code",
      "execution_count": null,
      "metadata": {
        "id": "MXON_zBs2G8x"
      },
      "outputs": [],
      "source": [
        "Q = 3*a**3 - b**2"
      ]
    },
    {
      "cell_type": "markdown",
      "metadata": {
        "id": "ef9pgrTH2G8x"
      },
      "source": [
        "Let\\'s assume `a` and `b` to be parameters of an NN, and `Q` to be the\n",
        "error. In NN training, we want gradients of the error w.r.t. parameters,\n",
        "i.e.\n",
        "\n",
        "$$\\frac{\\partial Q}{\\partial a} = 9a^2$$\n",
        "\n",
        "$$\\frac{\\partial Q}{\\partial b} = -2b$$\n",
        "\n",
        "When we call `.backward()` on `Q`, autograd calculates these gradients\n",
        "and stores them in the respective tensors\\' `.grad` attribute.\n",
        "\n",
        "We need to explicitly pass a `gradient` argument in `Q.backward()`\n",
        "because it is a vector. `gradient` is a tensor of the same shape as `Q`,\n",
        "and it represents the gradient of Q w.r.t. itself, i.e.\n",
        "\n",
        "$$\\frac{dQ}{dQ} = 1$$\n",
        "\n",
        "Equivalently, we can also aggregate Q into a scalar and call backward\n",
        "implicitly, like `Q.sum().backward()`.\n"
      ]
    },
    {
      "cell_type": "code",
      "execution_count": null,
      "metadata": {
        "id": "7kc0nGgR2G8x"
      },
      "outputs": [],
      "source": [
        "external_grad = torch.tensor([1., 1.])\n",
        "Q.backward(gradient=external_grad)"
      ]
    },
    {
      "cell_type": "markdown",
      "metadata": {
        "id": "jaJ9eLTw2G8x"
      },
      "source": [
        "Gradients are now deposited in `a.grad` and `b.grad`\n"
      ]
    },
    {
      "cell_type": "code",
      "execution_count": null,
      "metadata": {
        "id": "XQWCFvBJ2G8y"
      },
      "outputs": [],
      "source": [
        "# check if collected gradients are correct\n",
        "print(9*a**2 == a.grad)\n",
        "print(-2*b == b.grad)"
      ]
    },
    {
      "cell_type": "markdown",
      "metadata": {
        "id": "pvWnKFqU2G8y"
      },
      "source": [
        "Optional Reading - Vector Calculus using `autograd`\n",
        "===================================================\n",
        "\n",
        "Mathematically, if you have a vector valued function\n",
        "$\\vec{y}=f(\\vec{x})$, then the gradient of $\\vec{y}$ with respect to\n",
        "$\\vec{x}$ is a Jacobian matrix $J$:\n",
        "\n",
        "$$\\begin{aligned}\n",
        "J\n",
        "=\n",
        " \\left(\\begin{array}{cc}\n",
        " \\frac{\\partial \\bf{y}}{\\partial x_{1}} &\n",
        " ... &\n",
        " \\frac{\\partial \\bf{y}}{\\partial x_{n}}\n",
        " \\end{array}\\right)\n",
        "=\n",
        "\\left(\\begin{array}{ccc}\n",
        " \\frac{\\partial y_{1}}{\\partial x_{1}} & \\cdots & \\frac{\\partial y_{1}}{\\partial x_{n}}\\\\\n",
        " \\vdots & \\ddots & \\vdots\\\\\n",
        " \\frac{\\partial y_{m}}{\\partial x_{1}} & \\cdots & \\frac{\\partial y_{m}}{\\partial x_{n}}\n",
        " \\end{array}\\right)\n",
        "\\end{aligned}$$\n",
        "\n",
        "Generally speaking, `torch.autograd` is an engine for computing\n",
        "vector-Jacobian product. That is, given any vector $\\vec{v}$, compute\n",
        "the product $J^{T}\\cdot \\vec{v}$\n",
        "\n",
        "If $\\vec{v}$ happens to be the gradient of a scalar function\n",
        "$l=g\\left(\\vec{y}\\right)$:\n",
        "\n",
        "$$\\vec{v}\n",
        " =\n",
        " \\left(\\begin{array}{ccc}\\frac{\\partial l}{\\partial y_{1}} & \\cdots & \\frac{\\partial l}{\\partial y_{m}}\\end{array}\\right)^{T}$$\n",
        "\n",
        "then by the chain rule, the vector-Jacobian product would be the\n",
        "gradient of $l$ with respect to $\\vec{x}$:\n",
        "\n",
        "$$\\begin{aligned}\n",
        "J^{T}\\cdot \\vec{v} = \\left(\\begin{array}{ccc}\n",
        " \\frac{\\partial y_{1}}{\\partial x_{1}} & \\cdots & \\frac{\\partial y_{m}}{\\partial x_{1}}\\\\\n",
        " \\vdots & \\ddots & \\vdots\\\\\n",
        " \\frac{\\partial y_{1}}{\\partial x_{n}} & \\cdots & \\frac{\\partial y_{m}}{\\partial x_{n}}\n",
        " \\end{array}\\right)\\left(\\begin{array}{c}\n",
        " \\frac{\\partial l}{\\partial y_{1}}\\\\\n",
        " \\vdots\\\\\n",
        " \\frac{\\partial l}{\\partial y_{m}}\n",
        " \\end{array}\\right) = \\left(\\begin{array}{c}\n",
        " \\frac{\\partial l}{\\partial x_{1}}\\\\\n",
        " \\vdots\\\\\n",
        " \\frac{\\partial l}{\\partial x_{n}}\n",
        " \\end{array}\\right)\n",
        "\\end{aligned}$$\n",
        "\n",
        "This characteristic of vector-Jacobian product is what we use in the\n",
        "above example; `external_grad` represents $\\vec{v}$.\n"
      ]
    },
    {
      "cell_type": "markdown",
      "metadata": {
        "id": "4wR9ck4I2G8y"
      },
      "source": [
        "Computational Graph\n",
        "===================\n",
        "\n",
        "Conceptually, autograd keeps a record of data (tensors) & all executed\n",
        "operations (along with the resulting new tensors) in a directed acyclic\n",
        "graph (DAG) consisting of\n",
        "[Function](https://pytorch.org/docs/stable/autograd.html#torch.autograd.Function)\n",
        "objects. In this DAG, leaves are the input tensors, roots are the output\n",
        "tensors. By tracing this graph from roots to leaves, you can\n",
        "automatically compute the gradients using the chain rule.\n",
        "\n",
        "In a forward pass, autograd does two things simultaneously:\n",
        "\n",
        "-   run the requested operation to compute a resulting tensor, and\n",
        "-   maintain the operation's *gradient function* in the DAG.\n",
        "\n",
        "The backward pass kicks off when `.backward()` is called on the DAG\n",
        "root. `autograd` then:\n",
        "\n",
        "-   computes the gradients from each `.grad_fn`,\n",
        "-   accumulates them in the respective tensor's `.grad` attribute, and\n",
        "-   using the chain rule, propagates all the way to the leaf tensors.\n",
        "\n",
        "Below is a visual representation of the DAG in our example. In the\n",
        "graph, the arrows are in the direction of the forward pass. The nodes\n",
        "represent the backward functions of each operation in the forward pass.\n",
        "The leaf nodes in blue represent our leaf tensors `a` and `b`.\n",
        "\n",
        "![](https://pytorch.org/tutorials/_static/img/dag_autograd.png)\n",
        "\n",
        "<div style=\"background-color: #54c7ec; color: #fff; font-weight: 700; padding-left: 10px; padding-top: 5px; padding-bottom: 5px\"><strong>NOTE:</strong></div>\n",
        "\n",
        "<div style=\"background-color: #f3f4f7; padding-left: 10px; padding-top: 10px; padding-bottom: 10px; padding-right: 10px\">\n",
        "\n",
        "<p>An important thing to note is that the graph is recreated from scratch; after each<code>.backward()</code> call, autograd starts populating a new graph. This isexactly what allows you to use control flow statements in your model;you can change the shape, size and operations at every iteration ifneeded.</p>\n",
        "\n",
        "</div>\n",
        "\n",
        "Exclusion from the DAG\n",
        "----------------------\n",
        "\n",
        "`torch.autograd` tracks operations on all tensors which have their\n",
        "`requires_grad` flag set to `True`. For tensors that don't require\n",
        "gradients, setting this attribute to `False` excludes it from the\n",
        "gradient computation DAG.\n",
        "\n",
        "The output tensor of an operation will require gradients even if only a\n",
        "single input tensor has `requires_grad=True`.\n"
      ]
    },
    {
      "cell_type": "code",
      "execution_count": null,
      "metadata": {
        "id": "Dn2MY9Xj2G8y"
      },
      "outputs": [],
      "source": [
        "x = torch.rand(5, 5)\n",
        "y = torch.rand(5, 5)\n",
        "z = torch.rand((5, 5), requires_grad=True)\n",
        "\n",
        "a = x + y\n",
        "print(f\"Does `a` require gradients?: {a.requires_grad}\")\n",
        "b = x + z\n",
        "print(f\"Does `b` require gradients?: {b.requires_grad}\")"
      ]
    },
    {
      "cell_type": "markdown",
      "metadata": {
        "id": "oNuybxgG2G8y"
      },
      "source": [
        "In a NN, parameters that don\\'t compute gradients are usually called\n",
        "**frozen parameters**. It is useful to \\\"freeze\\\" part of your model if\n",
        "you know in advance that you won\\'t need the gradients of those\n",
        "parameters (this offers some performance benefits by reducing autograd\n",
        "computations).\n",
        "\n",
        "In finetuning, we freeze most of the model and typically only modify the\n",
        "classifier layers to make predictions on new labels. Let\\'s walk through\n",
        "a small example to demonstrate this. As before, we load a pretrained\n",
        "resnet18 model, and freeze all the parameters.\n"
      ]
    },
    {
      "cell_type": "code",
      "execution_count": 7,
      "metadata": {
        "id": "WL-h_02m2G8y"
      },
      "outputs": [],
      "source": [
        "from torch import nn, optim\n",
        "\n",
        "model = resnet18(weights=ResNet18_Weights.DEFAULT)\n",
        "\n",
        "# Freeze all the parameters in the network\n",
        "for param in model.parameters():\n",
        "    param.requires_grad = False"
      ]
    },
    {
      "cell_type": "markdown",
      "metadata": {
        "id": "Nh3SUu8H2G8y"
      },
      "source": [
        "Let\\'s say we want to finetune the model on a new dataset with 10\n",
        "labels. In resnet, the classifier is the last linear layer `model.fc`.\n",
        "We can simply replace it with a new linear layer (unfrozen by default)\n",
        "that acts as our classifier.\n"
      ]
    },
    {
      "cell_type": "code",
      "execution_count": 8,
      "metadata": {
        "id": "aPWgYtsv2G8y"
      },
      "outputs": [],
      "source": [
        "model.fc = nn.Linear(512, 10)"
      ]
    },
    {
      "cell_type": "code",
      "source": [
        "model.named_parameters()"
      ],
      "metadata": {
        "id": "T-zsaEIZ2m8i",
        "outputId": "3d2ab423-4502-4594-86ec-44f4f5180d14",
        "colab": {
          "base_uri": "https://localhost:8080/"
        }
      },
      "execution_count": 12,
      "outputs": [
        {
          "output_type": "execute_result",
          "data": {
            "text/plain": [
              "<generator object Module.named_parameters at 0x7bc75654cc40>"
            ]
          },
          "metadata": {},
          "execution_count": 12
        }
      ]
    },
    {
      "cell_type": "markdown",
      "metadata": {
        "id": "q9bBGQtF2G8y"
      },
      "source": [
        "Now all parameters in the model, except the parameters of `model.fc`,\n",
        "are frozen. The only parameters that compute gradients are the weights\n",
        "and bias of `model.fc`.\n"
      ]
    },
    {
      "cell_type": "code",
      "execution_count": 13,
      "metadata": {
        "id": "FecHoRfE2G8z"
      },
      "outputs": [],
      "source": [
        "# Optimize only the classifier\n",
        "optimizer = optim.SGD(model.parameters(), lr=1e-2, momentum=0.9)"
      ]
    },
    {
      "cell_type": "markdown",
      "metadata": {
        "id": "leiJurqa2G8z"
      },
      "source": [
        "Notice although we register all the parameters in the optimizer, the\n",
        "only parameters that are computing gradients (and hence updated in\n",
        "gradient descent) are the weights and bias of the classifier.\n",
        "\n",
        "The same exclusionary functionality is available as a context manager in\n",
        "[torch.no\\_grad()](https://pytorch.org/docs/stable/generated/torch.no_grad.html)\n"
      ]
    },
    {
      "cell_type": "markdown",
      "metadata": {
        "id": "j06fhwuJ2G8z"
      },
      "source": [
        "------------------------------------------------------------------------\n"
      ]
    },
    {
      "cell_type": "markdown",
      "metadata": {
        "id": "cpzQnz1e2G8z"
      },
      "source": [
        "Further readings:\n",
        "=================\n",
        "\n",
        "-   [In-place operations & Multithreaded\n",
        "    Autograd](https://pytorch.org/docs/stable/notes/autograd.html)\n",
        "-   [Example implementation of reverse-mode\n",
        "    autodiff](https://colab.research.google.com/drive/1VpeE6UvEPRz9HmsHh1KS0XxXjYu533EC)\n",
        "-   [Video: PyTorch Autograd Explained - In-depth\n",
        "    Tutorial](https://www.youtube.com/watch?v=MswxJw-8PvE)\n"
      ]
    }
  ],
  "metadata": {
    "kernelspec": {
      "display_name": "Python 3",
      "language": "python",
      "name": "python3"
    },
    "language_info": {
      "codemirror_mode": {
        "name": "ipython",
        "version": 3
      },
      "file_extension": ".py",
      "mimetype": "text/x-python",
      "name": "python",
      "nbconvert_exporter": "python",
      "pygments_lexer": "ipython3",
      "version": "3.10.12"
    },
    "colab": {
      "provenance": []
    }
  },
  "nbformat": 4,
  "nbformat_minor": 0
}